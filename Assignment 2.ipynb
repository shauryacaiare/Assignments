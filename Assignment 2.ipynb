{
 "cells": [
  {
   "cell_type": "markdown",
   "metadata": {},
   "source": [
    "# Assignment 2"
   ]
  },
  {
   "cell_type": "markdown",
   "metadata": {},
   "source": [
    "Task 1"
   ]
  },
  {
   "cell_type": "markdown",
   "metadata": {},
   "source": [
    "1.1"
   ]
  },
  {
   "cell_type": "code",
   "execution_count": 1,
   "metadata": {},
   "outputs": [
    {
     "name": "stdout",
     "output_type": "stream",
     "text": [
      "5\n"
     ]
    }
   ],
   "source": [
    "def myreduce(fun=None,iter1=None):\n",
    "    f=fun(iter1[0],iter1[1])\n",
    "    i=2\n",
    "    while i<=(len(iter1)-1):\n",
    "        s=fun(f,iter1[i])\n",
    "        f=s\n",
    "        i+=1\n",
    "    print(s)\n",
    "def fun(a,b):\n",
    "    if a>b:\n",
    "        return a\n",
    "    else:\n",
    "        return b\n",
    "\n",
    "myreduce(fun,[1,2,3,4,5])    "
   ]
  },
  {
   "cell_type": "markdown",
   "metadata": {},
   "source": [
    "1.2"
   ]
  },
  {
   "cell_type": "code",
   "execution_count": 2,
   "metadata": {},
   "outputs": [
    {
     "name": "stdout",
     "output_type": "stream",
     "text": [
      "[2, 4]\n"
     ]
    }
   ],
   "source": [
    "def myfilter(fun=None,iter1=None):\n",
    "    list1=[]\n",
    "    for i in iter1:\n",
    "        if fun(i):\n",
    "            list1.append(i)\n",
    "    print(list1)\n",
    "    \n",
    "def fun(n):\n",
    "    if n%2==0:\n",
    "        return True\n",
    "    else:\n",
    "        return False\n",
    "myfilter(fun,[1,2,3,4,5])    "
   ]
  },
  {
   "cell_type": "code",
   "execution_count": 2,
   "metadata": {},
   "outputs": [
    {
     "name": "stdout",
     "output_type": "stream",
     "text": [
      "['A', 'C', 'A', 'D', 'G', 'I', 'L', 'D']\n",
      "['X', 'XX', 'XXX', 'XXXX', 'Y', 'YY', 'YYY', 'YYYY', 'Z', 'ZZ', 'ZZZ', 'ZZZZ']\n",
      "['X', 'Y', 'Z', 'XX', 'YY', 'ZZ', 'XXX', 'YYY', 'ZZZ', 'XXXX', 'YYYY', 'ZZZZ']\n",
      "[[2], [3], [4], [3], [4], [5], [4], [5], [6]]\n",
      "[[2, 3, 4, 5], [3, 4, 5, 6], [4, 5, 6, 7], [5, 6, 7, 8]]\n",
      "[(1, 1), (2, 1), (3, 1), (1, 2), (2, 2), (3, 2), (1, 3), (2, 3), (3, 3)]\n"
     ]
    }
   ],
   "source": [
    "list1=[i for i in \"ACADGILD\"]\n",
    "list2=[i*j for i in \"XYZ\" for j in range(1,5) ]\n",
    "list3=[i*j for j in range(1,5) for i in \"XYZ\" ]\n",
    "list4=[[j] for i in range(2,5) for j in range(i,i+3)]\n",
    "list5=[[j for j in range(i,i+4)] for i in range(2,6)]\n",
    "list6=[(j,i)for i in range(1,4) for j in range(1,4)]\n",
    "print(list1)\n",
    "print(list2)\n",
    "print(list3)\n",
    "print(list4)\n",
    "print(list5)\n",
    "print(list6)"
   ]
  },
  {
   "cell_type": "markdown",
   "metadata": {},
   "source": [
    "3."
   ]
  },
  {
   "cell_type": "code",
   "execution_count": 32,
   "metadata": {},
   "outputs": [
    {
     "name": "stdout",
     "output_type": "stream",
     "text": [
      "shaurya\n"
     ]
    }
   ],
   "source": [
    "def longestword(list1):\n",
    "    dict1={}\n",
    "    for i in list1:\n",
    "        dict1[i]=len(i)\n",
    "    max1=max(dict1.values())\n",
    "    for i in dict1.items():\n",
    "        if i[1]==max1:\n",
    "            return i[0]\n",
    "print(longestword([\"asdf\",\"shaurya\",\"cairae\",\"ertg\"]))"
   ]
  },
  {
   "cell_type": "markdown",
   "metadata": {},
   "source": [
    "TASK 2"
   ]
  },
  {
   "cell_type": "markdown",
   "metadata": {},
   "source": [
    "1.1"
   ]
  },
  {
   "cell_type": "code",
   "execution_count": 9,
   "metadata": {},
   "outputs": [
    {
     "name": "stdout",
     "output_type": "stream",
     "text": [
      "248.5478\n"
     ]
    }
   ],
   "source": [
    "class parernt:\n",
    "    def __init__(self,a,b,c):\n",
    "        self.a=a\n",
    "        self.b=b\n",
    "        self.c=c\n",
    "class child(parernt):\n",
    "    def cal_area(self):\n",
    "        s=(self.a+self.b+self.c)/2\n",
    "        area=(s*(s-self.a)*(s-self.b)*(s-self.c))**0.5\n",
    "        print(\"%.4f\"%area)\n",
    "c=child(23,24,25)\n",
    "c.cal_area()\n"
   ]
  },
  {
   "cell_type": "markdown",
   "metadata": {},
   "source": [
    "1.2"
   ]
  },
  {
   "cell_type": "code",
   "execution_count": 20,
   "metadata": {},
   "outputs": [
    {
     "name": "stdout",
     "output_type": "stream",
     "text": [
      "['asdf', 'seddea', 'dedsas']\n"
     ]
    }
   ],
   "source": [
    "def filter_long_words(list1,n):\n",
    "    list2=[]\n",
    "    for i in list1:\n",
    "        if len(i)>n:\n",
    "            list2.append(i)\n",
    "    return list2\n",
    "print(filter_long_words([\"asdf\",\"dfd\",\"seddea\",\"dedsas\"],3))"
   ]
  },
  {
   "cell_type": "markdown",
   "metadata": {},
   "source": [
    "2.1"
   ]
  },
  {
   "cell_type": "code",
   "execution_count": 22,
   "metadata": {},
   "outputs": [
    {
     "name": "stdout",
     "output_type": "stream",
     "text": [
      "[7, 6, 4]\n"
     ]
    }
   ],
   "source": [
    "def maps(list1):\n",
    "    list2=[]\n",
    "    for i in list1:\n",
    "        list2.append(len(i))\n",
    "    return list2\n",
    "print(maps([\"shaurya\",\"cairae\",\"aedf\"]))"
   ]
  },
  {
   "cell_type": "markdown",
   "metadata": {},
   "source": [
    "2.2"
   ]
  },
  {
   "cell_type": "code",
   "execution_count": 30,
   "metadata": {},
   "outputs": [
    {
     "name": "stdout",
     "output_type": "stream",
     "text": [
      "A\n",
      "True\n"
     ]
    }
   ],
   "source": [
    "def chart(ch):\n",
    "    if len(ch)==1:\n",
    "        ch=ch.lower()\n",
    "        if ch in \"aeiou\":\n",
    "            return True\n",
    "        else:\n",
    "            return False\n",
    "    else:\n",
    "        return -1\n",
    "    \n",
    "a=input()\n",
    "if chart(a)==-1:\n",
    "    print(\"lenght greater than one\")\n",
    "else:\n",
    "    if chart(a):\n",
    "        print(\"True\")\n",
    "    else:\n",
    "        print(\"False\")"
   ]
  },
  {
   "cell_type": "code",
   "execution_count": null,
   "metadata": {},
   "outputs": [],
   "source": []
  }
 ],
 "metadata": {
  "kernelspec": {
   "display_name": "Python 3",
   "language": "python",
   "name": "python3"
  },
  "language_info": {
   "codemirror_mode": {
    "name": "ipython",
    "version": 3
   },
   "file_extension": ".py",
   "mimetype": "text/x-python",
   "name": "python",
   "nbconvert_exporter": "python",
   "pygments_lexer": "ipython3",
   "version": "3.7.6"
  }
 },
 "nbformat": 4,
 "nbformat_minor": 4
}
