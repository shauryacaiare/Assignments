{
 "cells": [
  {
   "cell_type": "raw",
   "metadata": {},
   "source": [
    "Q1. Calculate the mean, median, mode and standard deviation for the problem\n",
    "statements 1& 2.\n",
    "\n",
    "Problem Statement 1:\n",
    "The marks awarded for an assignment set for a Year 8 class of 20 students were as\n",
    "follows:\n",
    "6 7 5 7 7 8 7 6 9 7 4 10 6 8 8 9 5 6 4 8\n",
    "\n",
    "Problem Statement 2:\n",
    "The number of calls from motorists per day for roadside service was recorded for a\n",
    "particular month:\n",
    "28, 122, 217, 130, 120, 86, 80, 90, 140, 120, 70, 40, 145, 113, 90, 68, 174, 194, 170,\n",
    "100, 75, 104, 97, 75,\n",
    "123, 100, 75, 104, 97, 75, 123, 100, 89, 120, 109"
   ]
  },
  {
   "cell_type": "code",
   "execution_count": 41,
   "metadata": {},
   "outputs": [],
   "source": [
    "import numpy as np\n",
    "from scipy import stats\n",
    "from scipy.special import factorial as f\n",
    "import matplotlib.pyplot as plt\n",
    "import seaborn as sns"
   ]
  },
  {
   "cell_type": "markdown",
   "metadata": {},
   "source": [
    "# Q1"
   ]
  },
  {
   "cell_type": "code",
   "execution_count": 42,
   "metadata": {},
   "outputs": [
    {
     "name": "stdout",
     "output_type": "stream",
     "text": [
      "mean = 6.85\n",
      "median = 7.0\n",
      "mode = ModeResult(mode=array([7]), count=array([5]))\n",
      "standard deviation = 1.5898113095584647\n"
     ]
    }
   ],
   "source": [
    "list1=[6,7,5,7,7,8,7,6,9,7,4,10,6,8,8,9,5,6,4,8]\n",
    "print('mean =',np.mean(list1))\n",
    "print(\"median =\",np.median(list1))\n",
    "print('mode =',stats.mode(list1,axis=None))\n",
    "print('standard deviation =',np.std(list1))"
   ]
  },
  {
   "cell_type": "markdown",
   "metadata": {},
   "source": [
    "# Q2"
   ]
  },
  {
   "cell_type": "code",
   "execution_count": 43,
   "metadata": {},
   "outputs": [
    {
     "name": "stdout",
     "output_type": "stream",
     "text": [
      "mean = 107.51428571428572\n",
      "median = 100.0\n",
      "mode = ModeResult(mode=array([75]), count=array([4]))\n",
      "standard deviation = 38.77287080168403\n"
     ]
    }
   ],
   "source": [
    "list1=[28, 122, 217, 130, 120, 86, 80, 90, 140, 120, 70, 40, 145, 113, 90, 68, 174, 194, 170,\n",
    "100, 75, 104, 97, 75,\n",
    "123, 100, 75, 104, 97, 75, 123, 100, 89, 120, 109]\n",
    "print('mean =',np.mean(list1))\n",
    "print(\"median =\",np.median(list1))\n",
    "print('mode =',stats.mode(list1,axis=None))\n",
    "print('standard deviation =',np.std(list1))"
   ]
  },
  {
   "cell_type": "markdown",
   "metadata": {},
   "source": [
    "# Q3\n",
    "The number of times I go to the gym in weekdays, are given below along with its\n",
    "associated probability:\n",
    "x = 0, 1, 2, 3, 4, 5\n",
    "f(x) = 0.09, 0.15, 0.40, 0.25, 0.10, 0.01\n",
    "Calculate the mean no. of workouts in a week. Also evaluate the variance involved in\n",
    "it."
   ]
  },
  {
   "cell_type": "code",
   "execution_count": 44,
   "metadata": {},
   "outputs": [
    {
     "name": "stdout",
     "output_type": "stream",
     "text": [
      "mean number of workout in a week = 2.1\n",
      "---------------------------------\n",
      "variance is = 1.1899999999999995\n"
     ]
    }
   ],
   "source": [
    "x =[ 0, 1, 2, 3, 4, 5]\n",
    "f_x =[ 0.09, 0.15, 0.40, 0.25, 0.10]\n",
    "mean=0\n",
    "for i,j in zip(x,f_x):\n",
    "    mean+=(i*j)\n",
    "print('mean number of workout in a week =',mean)\n",
    "print(\"---------------------------------\")\n",
    "e_X2=0\n",
    "for i,j in zip(x,f_x):\n",
    "    e_X2+=(np.square(i)*j)\n",
    "var=e_X2-(mean*mean)\n",
    "print('variance is =',var)"
   ]
  },
  {
   "cell_type": "markdown",
   "metadata": {},
   "source": [
    "# Q4\n",
    "Let the continuous random variable D denote the diameter of the hole drilled in an\n",
    "aluminum sheet. The target diameter to be achieved is 12.5mm. Random\n",
    "disturbances in the process often result in inaccuracy.\n",
    "Historical data shows that the distribution of D can be modelled by the PDF (d) =\n",
    "20e−20(d−12.5), d ≥ 12.5. If a part with diameter > 12.6 mm needs to be scrapped,\n",
    "what is the proportion of those parts? What is the CDF when the diameter is of 11\n",
    "mm? What is your conclusion regarding the proportion of scraps?"
   ]
  },
  {
   "cell_type": "markdown",
   "metadata": {},
   "source": [
    "<img src=\"https://i.ibb.co/FgpR9fX/IMG-20200815-100805-1.jpg\" alt=\"IMG-20200815-100805-1\" border=\"0\" width=\"300\">\n",
    "<img src=\"https://i.ibb.co/4sb0pX7/IMG-20200815-100816-1.jpg\" alt=\"IMG-20200815-100816-1\" border=\"0\" width=\"300\">"
   ]
  },
  {
   "cell_type": "markdown",
   "metadata": {},
   "source": [
    "the observation that can be made about the proportion is that there is .135 chance that the material needed to be scrapped"
   ]
  },
  {
   "cell_type": "markdown",
   "metadata": {},
   "source": [
    "# Q5 \n",
    "A company manufactures LED bulbs with a faulty rate of 30%. If I randomly select 6\n",
    "chosen LEDs, what is the probability of having 2 faulty LEDs in my sample?\n",
    "Calculate the average value of this process. Also evaluate the standard deviation\n",
    "associated with it."
   ]
  },
  {
   "cell_type": "code",
   "execution_count": 45,
   "metadata": {},
   "outputs": [
    {
     "name": "stdout",
     "output_type": "stream",
     "text": [
      "the probability of having 2 faulty LEDs in my sample is  0.3241349999999999\n",
      "average value of this process is  0.3\n",
      "the standard deviation associated with it is  1.1224972160321822\n"
     ]
    }
   ],
   "source": [
    "p_s=0.3\n",
    "p_f=1-p_s\n",
    "n=6\n",
    "k=2\n",
    "fact=f(n)/(f(k)*f(n-k))\n",
    "prob=fact*(p_s**(k))*(p_f**(n-k))\n",
    "print('the probability of having 2 faulty LEDs in my sample is ',prob)\n",
    "print('average value of this process is ',p_s)\n",
    "print('the standard deviation associated with it is ',np.sqrt(n*p_s*(p_f)))"
   ]
  },
  {
   "cell_type": "markdown",
   "metadata": {},
   "source": [
    "# Q6\n",
    "Gaurav and Barakha are both preparing for entrance exams. Gaurav attempts to\n",
    "solve 8 questions per day with a correction rate of 75%, while Barakha averages\n",
    "around 12 questions per day with a correction rate of 45%. What is the probability\n",
    "that each of them will solve 5 questions correctly? What happens in cases of 4 and 6\n",
    "correct solutions? What do you infer from it? What are the two main governing\n",
    "factors affecting their ability to solve questions correctly? Give a pictorial\n",
    "representation of the same to validate your answer."
   ]
  },
  {
   "cell_type": "markdown",
   "metadata": {},
   "source": [
    "<img src=\"https://i.ibb.co/WpMjFQY/IMG-20200815-225131.jpg\" alt=\"IMG-20200815-225131\" border=\"0\" width=\"300\">\n",
    "<img src=\"https://i.ibb.co/DGQTt5y/IMG-20200815-225146.jpg\" alt=\"IMG-20200815-225146\" border=\"0\" width=\"300\">"
   ]
  },
  {
   "cell_type": "markdown",
   "metadata": {},
   "source": [
    "# Q7\n",
    "Customers arrive at a rate of 72 per hour to my shop. What is the probability of k\n",
    "customers arriving in 4 minutes? a) 5 customers, b) not more than 3 customers, c)\n",
    "more than 3 customers. Give a pictorial representation of the same to validate your\n",
    "answer."
   ]
  },
  {
   "cell_type": "code",
   "execution_count": 46,
   "metadata": {},
   "outputs": [
    {
     "name": "stdout",
     "output_type": "stream",
     "text": [
      "a.\n",
      "the probability of 5 customers arriving in 4 minutes is  0.17474768364388285\n",
      "b.\n",
      "the probability of not more than 3 customers arriving in 4 minutes is  0.29422991649656416\n",
      "c.\n",
      "the probability of more than 3 customers arriving in 4 minutes is  0.7057700835034358\n"
     ]
    },
    {
     "data": {
      "text/plain": [
       "<BarContainer object of 3 artists>"
      ]
     },
     "execution_count": 46,
     "metadata": {},
     "output_type": "execute_result"
    },
    {
     "data": {
      "image/png": "[encoded data removed]",
      "text/plain": [
       "<Figure size 432x288 with 1 Axes>"
      ]
     },
     "metadata": {
      "needs_background": "light"
     },
     "output_type": "display_data"
    }
   ],
   "source": [
    "lam=(72*4)/60\n",
    "print('a.')\n",
    "k=5\n",
    "prob1=(((np.e)**(-lam))*(lam)**k)/f(k)\n",
    "print('the probability of 5 customers arriving in 4 minutes is ',prob1)\n",
    "print('b.')\n",
    "list1=[]\n",
    "for k_1 in range(0,4):\n",
    "    list1.append((((np.e)**(-lam))*(lam)**k_1)/f(k_1))\n",
    "prob2=sum(list1)\n",
    "print('the probability of not more than 3 customers arriving in 4 minutes is ',prob2)\n",
    "print('c.')\n",
    "prob3=1-prob2\n",
    "print('the probability of more than 3 customers arriving in 4 minutes is ',prob3)\n",
    "list2=[prob1,prob2,prob3]\n",
    "list3=['k=5','k<=3','k>=3']\n",
    "plt.bar(list3,list2,width=0.1)"
   ]
  },
  {
   "cell_type": "markdown",
   "metadata": {},
   "source": [
    "# Q8\n",
    "I work as a data analyst in Aeon Learning Pvt. Ltd. After analyzing data, I make\n",
    "reports, where I have the efficiency of entering 77 words per minute with 6 errors per\n",
    "hour. What is the probability that I will commit 2 errors in a 455-word financial report?\n",
    "What happens when the no. of words increases/decreases (in case of 1000 words,\n",
    "255 words)?\n",
    "How is the λ affected?\n",
    "How does it influence the PMF?\n",
    "Give a pictorial representation of the same to validate your answer."
   ]
  },
  {
   "cell_type": "code",
   "execution_count": 47,
   "metadata": {},
   "outputs": [
    {
     "name": "stdout",
     "output_type": "stream",
     "text": [
      "probability that I will commit 2 errors in a 455-word financial report is 0.047394262805931654\n"
     ]
    },
    {
     "data": {
      "text/plain": [
       "<BarContainer object of 746 artists>"
      ]
     },
     "execution_count": 47,
     "metadata": {},
     "output_type": "execute_result"
    },
    {
     "data": {
      "image/png": "[encoded data removed]",
      "text/plain": [
       "<Figure size 432x288 with 1 Axes>"
      ]
     },
     "metadata": {
      "needs_background": "light"
     },
     "output_type": "display_data"
    }
   ],
   "source": [
    "lam=455/77\n",
    "k=2\n",
    "p=((np.e**(-lam))*(lam**k))/f(k)\n",
    "print('probability that I will commit 2 errors in a 455-word financial report is',p)\n",
    "list1=[]\n",
    "list2=[]\n",
    "for i in range(255,1001):\n",
    "    list1.append(i)\n",
    "    lam1=i/77\n",
    "    list2.append(((np.e**(-lam1))*(lam**k))/f(k))\n",
    "plt.bar(list1,list2)"
   ]
  },
  {
   "cell_type": "markdown",
   "metadata": {},
   "source": [
    "as the number of works increases, the probability of having 2 mistakes decreases"
   ]
  },
  {
   "cell_type": "markdown",
   "metadata": {},
   "source": [
    "# Q9\n",
    "Let the continuous random variable D denote the diameter of the hole drilled in an\n",
    "aluminum sheet. The target diameter to be achieved is 12.5mm. Random\n",
    "disturbances in the process often result in inaccuracy.\n",
    "Historical data shows that the distribution of D can be modelled by the PDF, f(d) =\n",
    "20e−20(d−12.5), d ≥ 12.5. If a part with diameter > 12.6 mm needs to be scrapped,\n",
    "what is the proportion of those parts? What is the CDF when the diameter is of 11\n",
    "mm?\n",
    "What is the conclusion of this experiment?"
   ]
  },
  {
   "cell_type": "markdown",
   "metadata": {},
   "source": [
    "<img src=\"https://i.ibb.co/FgpR9fX/IMG-20200815-100805-1.jpg\" alt=\"IMG-20200815-100805-1\" border=\"0\" width=\"300\">\n",
    "<img src=\"https://i.ibb.co/4sb0pX7/IMG-20200815-100816-1.jpg\" alt=\"IMG-20200815-100816-1\" border=\"0\" width=\"300\">"
   ]
  },
  {
   "cell_type": "markdown",
   "metadata": {},
   "source": [
    "the observation that can be made about the proportion is that there is .135 chance that the material needed to be scrapped"
   ]
  },
  {
   "cell_type": "markdown",
   "metadata": {},
   "source": [
    "# Q10\n",
    "Please compute the following:\n",
    "a) P(Z > 1.26), . P(Z < −0.86), P(Z > −1.37), P(−1.25 < Z < 0.37), . P(Z ≤ −4.6)\n",
    "b) Find the value z such that P(Z > z) = 0.05\n",
    "c) Find the value of z such that P(−z < Z < z) = 0.99"
   ]
  },
  {
   "cell_type": "code",
   "execution_count": 48,
   "metadata": {},
   "outputs": [
    {
     "name": "stdout",
     "output_type": "stream",
     "text": [
      "a.\n",
      "P(Z > 1.26) = 0.1038\n",
      "P(Z < −0.86) = 0.1949\n",
      "P(Z > −1.37) = 0.9147\n",
      "P(−1.25 < Z < 0.37 = 0.5387\n",
      "P(Z ≤ −4.6) = 0\n",
      "b.\n",
      "the value z such that P(Z > z) = 0.05 = 1.65\n",
      "c.\n",
      "the value of z such that P(−z < Z < z) = 0.99 = 2.57 and -2.57\n"
     ]
    }
   ],
   "source": [
    "print('a.')\n",
    "print('P(Z > 1.26) =',0.1038)\n",
    "print('P(Z < −0.86) =',.1949)\n",
    "print('P(Z > −1.37) =',1-0.0853)\n",
    "print('P(−1.25 < Z < 0.37 =',.6443-.1056)\n",
    "print('P(Z ≤ −4.6) =',0)\n",
    "print('b.')\n",
    "print('the value z such that P(Z > z) = 0.05 =',1.65)\n",
    "print('c.')\n",
    "print('the value of z such that P(−z < Z < z) = 0.99 =',2.57,'and',-2.57)"
   ]
  },
  {
   "cell_type": "markdown",
   "metadata": {},
   "source": [
    "# Q11\n",
    "The current flow in a copper wire follow a normal distribution with a mean of 10 mA\n",
    "and a variance of 4 (mA)2.\n",
    "What is the probability that a current measurement will exceed 13 mA? What is the\n",
    "probability that a current measurement is between 9 and 11mA? Determine the\n",
    "current measurement which has a probability of 0.98."
   ]
  },
  {
   "cell_type": "code",
   "execution_count": 49,
   "metadata": {},
   "outputs": [
    {
     "name": "stdout",
     "output_type": "stream",
     "text": [
      "probability that a current measurement will exceed 13 mA = 0.06679999999999997\n",
      "the probability that a current measurement is between 9 and 11mA = 0.383\n",
      "Z score for probability 0.98 is 2.6\n",
      "the current measurement which has a probability of 0.98 is  15.2 mA\n"
     ]
    }
   ],
   "source": [
    "mean=10\n",
    "var=4\n",
    "std=np.sqrt(var)\n",
    "print('probability that a current measurement will exceed 13 mA =',1-.9332)\n",
    "print('the probability that a current measurement is between 9 and 11mA =',.6915-.3085)\n",
    "print('Z score for probability 0.98 is 2.6')\n",
    "val=2.6*std+10\n",
    "print('the current measurement which has a probability of 0.98 is ',val,'mA')"
   ]
  },
  {
   "cell_type": "markdown",
   "metadata": {},
   "source": [
    "# Q12\n",
    "The shaft in a piston has its diameter normally distributed with a mean of 0.2508 inch\n",
    "and a standard deviation of 0.0005 inch. The specifications of the shaft are 0.2500 ∓\n",
    "0.0015 inch. What proportion of shafts are in sync with the specifications? If the\n",
    "process is centered so that the mean is equal to the target value of 0.2500, what\n",
    "proportion of shafts conform to the new specifications? What is your conclusion from\n",
    "this experiment?"
   ]
  },
  {
   "cell_type": "code",
   "execution_count": 50,
   "metadata": {},
   "outputs": [
    {
     "name": "stdout",
     "output_type": "stream",
     "text": [
      "specifications of the shaft are 0.2500 ∓ 0.0015 inch\n",
      "P(l_r<X<u_l) is\n",
      "proportion of shafts are in sync with the specifications is 91.71000000000001%\n",
      "the process is centered so that the mean is equal to the target value of 0.2500,\n",
      "now mean is  0.25\n",
      "proportion of shafts conform to the new specifications is 99.72999999999999% \n"
     ]
    }
   ],
   "source": [
    "mean=.2508\n",
    "std=.0005\n",
    "print('specifications of the shaft are 0.2500 ∓ 0.0015 inch')\n",
    "u_r=.2500+.0015\n",
    "l_r=.2500-.0015\n",
    "print('P(l_r<X<u_l) is')\n",
    "z1=(u_r-mean)/std\n",
    "z2=(l_r-mean)/std\n",
    "val=.9171-0 #from z table\n",
    "print('proportion of shafts are in sync with the specifications is {}%'.format(val*100))\n",
    "print('the process is centered so that the mean is equal to the target value of 0.2500,')\n",
    "mean1=.2500\n",
    "print('now mean is ',mean1)\n",
    "z_1=(u_r-mean)/std\n",
    "z_2=(l_r-mean)/std\n",
    "val1=.9973  # from z table\n",
    "print('proportion of shafts conform to the new specifications is {}% '.format(val1*100))"
   ]
  },
  {
   "cell_type": "markdown",
   "metadata": {},
   "source": [
    "The conclusion is proportion increases from 91.21% to 99.72%"
   ]
  },
  {
   "cell_type": "code",
   "execution_count": null,
   "metadata": {},
   "outputs": [],
   "source": []
  }
 ],
 "metadata": {
  "kernelspec": {
   "display_name": "Python 3",
   "language": "python",
   "name": "python3"
  },
  "language_info": {
   "codemirror_mode": {
    "name": "ipython",
    "version": 3
   },
   "file_extension": ".py",
   "mimetype": "text/x-python",
   "name": "python",
   "nbconvert_exporter": "python",
   "pygments_lexer": "ipython3",
   "version": "3.7.6"
  }
 },
 "nbformat": 4,
 "nbformat_minor": 4
}
