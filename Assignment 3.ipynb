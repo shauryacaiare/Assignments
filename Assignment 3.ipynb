{
 "cells": [
  {
   "cell_type": "markdown",
   "metadata": {},
   "source": [
    "# Assignment 3"
   ]
  },
  {
   "cell_type": "markdown",
   "metadata": {},
   "source": [
    "Task 1"
   ]
  },
  {
   "cell_type": "markdown",
   "metadata": {},
   "source": [
    "1."
   ]
  },
  {
   "cell_type": "code",
   "execution_count": 3,
   "metadata": {},
   "outputs": [
    {
     "name": "stdout",
     "output_type": "stream",
     "text": [
      "cannot divide number by zero\n"
     ]
    }
   ],
   "source": [
    "def err():\n",
    "    try:\n",
    "        n=5/0\n",
    "    except ZeroDivisionError:\n",
    "        print(\"cannot divide number by zero\")\n",
    "        \n",
    "err()"
   ]
  },
  {
   "cell_type": "markdown",
   "metadata": {},
   "source": [
    "2."
   ]
  },
  {
   "cell_type": "code",
   "execution_count": 4,
   "metadata": {},
   "outputs": [
    {
     "name": "stdout",
     "output_type": "stream",
     "text": [
      "America play  baseball\n",
      "America play  cricket\n",
      "America watch  baseball\n",
      "America watch  cricket\n",
      "India play  baseball\n",
      "India play  cricket\n",
      "India watch  baseball\n",
      "India watch  cricket\n"
     ]
    }
   ],
   "source": [
    "def func(list1,list2,list3):\n",
    "    for i in list1:\n",
    "        for j in list2:\n",
    "            for k in list3:\n",
    "                print(i+\" \"+j+\" \"+\" \"+k)\n",
    "list1=[\"America\",\"India\"]\n",
    "list2=[\"play\",\"watch\"]\n",
    "list3=[\"baseball\",\"cricket\"]\n",
    "func(list1,list2,list3)"
   ]
  },
  {
   "cell_type": "markdown",
   "metadata": {},
   "source": [
    "TASK 2"
   ]
  },
  {
   "cell_type": "markdown",
   "metadata": {},
   "source": [
    "1."
   ]
  },
  {
   "cell_type": "code",
   "execution_count": 5,
   "metadata": {},
   "outputs": [],
   "source": [
    "import numpy as np\n",
    "def matrix(v,n,inc=False):\n",
    "    \n",
    "    if not inc:\n",
    "        arr1 = np.array([x**(n-1-i) for x in v for i in range(n)]).reshape(v.size,n)\n",
    "    elif inc:\n",
    "        arr1 = np.array([x**i for x in v for i in range(n)]).reshape(v.size,n)\n",
    "    \n",
    "    return arr1"
   ]
  },
  {
   "cell_type": "code",
   "execution_count": 6,
   "metadata": {},
   "outputs": [
    {
     "name": "stdout",
     "output_type": "stream",
     "text": [
      "[[  1   1   1   1   1]\n",
      " [ 16   8   4   2   1]\n",
      " [ 81  27   9   3   1]\n",
      " [256  64  16   4   1]]\n"
     ]
    }
   ],
   "source": [
    "print(matrix(np.array([1,2,3,4]),5,False))"
   ]
  },
  {
   "cell_type": "code",
   "execution_count": null,
   "metadata": {},
   "outputs": [],
   "source": []
  }
 ],
 "metadata": {
  "kernelspec": {
   "display_name": "Python 3",
   "language": "python",
   "name": "python3"
  },
  "language_info": {
   "codemirror_mode": {
    "name": "ipython",
    "version": 3
   },
   "file_extension": ".py",
   "mimetype": "text/x-python",
   "name": "python",
   "nbconvert_exporter": "python",
   "pygments_lexer": "ipython3",
   "version": "3.7.6"
  }
 },
 "nbformat": 4,
 "nbformat_minor": 4
}
